{
 "cells": [
  {
   "cell_type": "markdown",
   "metadata": {},
   "source": [
    "Import common package"
   ]
  },
  {
   "cell_type": "code",
   "execution_count": 7,
   "metadata": {},
   "outputs": [],
   "source": [
    "import os\n",
    "import json"
   ]
  },
  {
   "cell_type": "markdown",
   "metadata": {},
   "source": [
    "Import Homemade package"
   ]
  },
  {
   "cell_type": "code",
   "execution_count": 8,
   "metadata": {},
   "outputs": [],
   "source": [
    "from qcat.utility.file_structure import *\n",
    "from qcat.utility.io_translator import *\n",
    "# from analysis.analysis_method import *\n",
    "from qcat.resonator.photon_dep.res_data import *\n",
    "from qcat.utility.io_translator import mat_to_numpy\n",
    "\n",
    "# 1. Sample path setting\n",
    "sample_name = \"ITRI_334_radiator\"\n",
    "project_folder = r\"D:\\Data\\resonator\"   # empty string \"\" for relative path \n",
    "\n",
    "# 1.1 File structure setting\n",
    "sample_root = f\"{project_folder}/{sample_name}\"\n",
    "raw_data_fd = f\"{sample_root}/raw\"\n",
    "result_folder = f\"{project_folder}/{sample_name}/results\"\n",
    "\n",
    "fit_folder = f\"{result_folder}/power_dep_fit\"\n",
    "\n",
    "\n",
    "# subgroup_struc = check_subgroup(mat_files)\n",
    "\n",
    "# each cavity file(mat file)\n",
    "all_resonator_result = []\n",
    "folder_list = [d for d in os.listdir(raw_data_fd) if os.path.isdir(os.path.join(raw_data_fd, d))]\n",
    "\n",
    "\n"
   ]
  },
  {
   "cell_type": "markdown",
   "metadata": {},
   "source": [
    "Start Analysis"
   ]
  },
  {
   "cell_type": "code",
   "execution_count": 5,
   "metadata": {},
   "outputs": [
    {
     "name": "stdout",
     "output_type": "stream",
     "text": [
      "Results Directory Exist, Keep going!\n",
      "Results for this sample Exist!\n",
      "Processing C44949\n"
     ]
    },
    {
     "ename": "FileNotFoundError",
     "evalue": "[Errno 2] No such file or directory: 'D:\\\\Data\\\\resonator/ITRI_334_WOPR/raw/C44949/C52280_IR60K.mat'",
     "output_type": "error",
     "traceback": [
      "\u001b[1;31m---------------------------------------------------------------------------\u001b[0m",
      "\u001b[1;31mFileNotFoundError\u001b[0m                         Traceback (most recent call last)",
      "File \u001b[1;32mc:\\Users\\shiau\\.conda\\envs\\PYQUM-server-offline\\lib\\site-packages\\scipy\\io\\matlab\\_mio.py:39\u001b[0m, in \u001b[0;36m_open_file\u001b[1;34m(file_like, appendmat, mode)\u001b[0m\n\u001b[0;32m     38\u001b[0m \u001b[38;5;28;01mtry\u001b[39;00m:\n\u001b[1;32m---> 39\u001b[0m     \u001b[38;5;28;01mreturn\u001b[39;00m \u001b[38;5;28;43mopen\u001b[39;49m\u001b[43m(\u001b[49m\u001b[43mfile_like\u001b[49m\u001b[43m,\u001b[49m\u001b[43m \u001b[49m\u001b[43mmode\u001b[49m\u001b[43m)\u001b[49m, \u001b[38;5;28;01mTrue\u001b[39;00m\n\u001b[0;32m     40\u001b[0m \u001b[38;5;28;01mexcept\u001b[39;00m \u001b[38;5;167;01mOSError\u001b[39;00m \u001b[38;5;28;01mas\u001b[39;00m e:\n\u001b[0;32m     41\u001b[0m     \u001b[38;5;66;03m# Probably \"not found\"\u001b[39;00m\n",
      "\u001b[1;31mFileNotFoundError\u001b[0m: [Errno 2] No such file or directory: 'D:\\\\Data\\\\resonator/ITRI_334_WOPR/raw/C44949/C52280_IR60K'",
      "\nDuring handling of the above exception, another exception occurred:\n",
      "\u001b[1;31mFileNotFoundError\u001b[0m                         Traceback (most recent call last)",
      "Cell \u001b[1;32mIn[5], line 13\u001b[0m\n\u001b[0;32m     11\u001b[0m \u001b[38;5;66;03m# Find cavity data (mat file) in the folder\u001b[39;00m\n\u001b[0;32m     12\u001b[0m mat_files \u001b[38;5;241m=\u001b[39m check_file_extension( resonator_data_folder, \u001b[38;5;124m\"\u001b[39m\u001b[38;5;124mmat\u001b[39m\u001b[38;5;124m\"\u001b[39m)\n\u001b[1;32m---> 13\u001b[0m time, freq, s21 \u001b[38;5;241m=\u001b[39m \u001b[43mmat_to_numpy\u001b[49m\u001b[43m(\u001b[49m\u001b[38;5;124;43mf\u001b[39;49m\u001b[38;5;124;43m\"\u001b[39;49m\u001b[38;5;132;43;01m{\u001b[39;49;00m\u001b[43mresonator_data_folder\u001b[49m\u001b[38;5;132;43;01m}\u001b[39;49;00m\u001b[38;5;124;43m/C52280_IR60K\u001b[39;49m\u001b[38;5;124;43m\"\u001b[39;49m\u001b[43m)\u001b[49m\n\u001b[0;32m     14\u001b[0m s21 \u001b[38;5;241m=\u001b[39m s21\u001b[38;5;241m.\u001b[39mtranspose()\n\u001b[0;32m     15\u001b[0m resonator\u001b[38;5;241m.\u001b[39mimport_array(freq,s21,[\u001b[38;5;241m-\u001b[39m\u001b[38;5;241m30\u001b[39m\u001b[38;5;241m-\u001b[39m\u001b[38;5;241m80\u001b[39m]\u001b[38;5;241m*\u001b[39ms21\u001b[38;5;241m.\u001b[39mshape[\u001b[38;5;241m0\u001b[39m])\n",
      "File \u001b[1;32mc:\\users\\shiau\\qcat\\src\\qcat\\utility\\io_translator.py:42\u001b[0m, in \u001b[0;36mmat_to_numpy\u001b[1;34m(file_name)\u001b[0m\n\u001b[0;32m     40\u001b[0m \u001b[38;5;28;01mdef\u001b[39;00m \u001b[38;5;21mmat_to_numpy\u001b[39m( file_name ):\n\u001b[1;32m---> 42\u001b[0m     mat \u001b[38;5;241m=\u001b[39m \u001b[43mscipy\u001b[49m\u001b[38;5;241;43m.\u001b[39;49m\u001b[43mio\u001b[49m\u001b[38;5;241;43m.\u001b[39;49m\u001b[43mloadmat\u001b[49m\u001b[43m(\u001b[49m\u001b[43m \u001b[49m\u001b[43mfile_name\u001b[49m\u001b[43m \u001b[49m\u001b[43m)\u001b[49m   \n\u001b[0;32m     43\u001b[0m     \u001b[38;5;66;03m# amp = mat[\"ZZA\"].transpose()\u001b[39;00m\n\u001b[0;32m     44\u001b[0m     \u001b[38;5;66;03m# pha = mat[\"ZZP\"].transpose()\u001b[39;00m\n\u001b[0;32m     45\u001b[0m     \u001b[38;5;28;01mtry\u001b[39;00m:\n",
      "File \u001b[1;32mc:\\Users\\shiau\\.conda\\envs\\PYQUM-server-offline\\lib\\site-packages\\scipy\\io\\matlab\\_mio.py:224\u001b[0m, in \u001b[0;36mloadmat\u001b[1;34m(file_name, mdict, appendmat, **kwargs)\u001b[0m\n\u001b[0;32m     87\u001b[0m \u001b[38;5;250m\u001b[39m\u001b[38;5;124;03m\"\"\"\u001b[39;00m\n\u001b[0;32m     88\u001b[0m \u001b[38;5;124;03mLoad MATLAB file.\u001b[39;00m\n\u001b[0;32m     89\u001b[0m \n\u001b[1;32m   (...)\u001b[0m\n\u001b[0;32m    221\u001b[0m \u001b[38;5;124;03m    3.14159265+3.14159265j])\u001b[39;00m\n\u001b[0;32m    222\u001b[0m \u001b[38;5;124;03m\"\"\"\u001b[39;00m\n\u001b[0;32m    223\u001b[0m variable_names \u001b[38;5;241m=\u001b[39m kwargs\u001b[38;5;241m.\u001b[39mpop(\u001b[38;5;124m'\u001b[39m\u001b[38;5;124mvariable_names\u001b[39m\u001b[38;5;124m'\u001b[39m, \u001b[38;5;28;01mNone\u001b[39;00m)\n\u001b[1;32m--> 224\u001b[0m \u001b[38;5;28;01mwith\u001b[39;00m _open_file_context(file_name, appendmat) \u001b[38;5;28;01mas\u001b[39;00m f:\n\u001b[0;32m    225\u001b[0m     MR, _ \u001b[38;5;241m=\u001b[39m mat_reader_factory(f, \u001b[38;5;241m*\u001b[39m\u001b[38;5;241m*\u001b[39mkwargs)\n\u001b[0;32m    226\u001b[0m     matfile_dict \u001b[38;5;241m=\u001b[39m MR\u001b[38;5;241m.\u001b[39mget_variables(variable_names)\n",
      "File \u001b[1;32mc:\\Users\\shiau\\.conda\\envs\\PYQUM-server-offline\\lib\\contextlib.py:135\u001b[0m, in \u001b[0;36m_GeneratorContextManager.__enter__\u001b[1;34m(self)\u001b[0m\n\u001b[0;32m    133\u001b[0m \u001b[38;5;28;01mdel\u001b[39;00m \u001b[38;5;28mself\u001b[39m\u001b[38;5;241m.\u001b[39margs, \u001b[38;5;28mself\u001b[39m\u001b[38;5;241m.\u001b[39mkwds, \u001b[38;5;28mself\u001b[39m\u001b[38;5;241m.\u001b[39mfunc\n\u001b[0;32m    134\u001b[0m \u001b[38;5;28;01mtry\u001b[39;00m:\n\u001b[1;32m--> 135\u001b[0m     \u001b[38;5;28;01mreturn\u001b[39;00m \u001b[38;5;28;43mnext\u001b[39;49m\u001b[43m(\u001b[49m\u001b[38;5;28;43mself\u001b[39;49m\u001b[38;5;241;43m.\u001b[39;49m\u001b[43mgen\u001b[49m\u001b[43m)\u001b[49m\n\u001b[0;32m    136\u001b[0m \u001b[38;5;28;01mexcept\u001b[39;00m \u001b[38;5;167;01mStopIteration\u001b[39;00m:\n\u001b[0;32m    137\u001b[0m     \u001b[38;5;28;01mraise\u001b[39;00m \u001b[38;5;167;01mRuntimeError\u001b[39;00m(\u001b[38;5;124m\"\u001b[39m\u001b[38;5;124mgenerator didn\u001b[39m\u001b[38;5;124m'\u001b[39m\u001b[38;5;124mt yield\u001b[39m\u001b[38;5;124m\"\u001b[39m) \u001b[38;5;28;01mfrom\u001b[39;00m \u001b[38;5;28;01mNone\u001b[39;00m\n",
      "File \u001b[1;32mc:\\Users\\shiau\\.conda\\envs\\PYQUM-server-offline\\lib\\site-packages\\scipy\\io\\matlab\\_mio.py:17\u001b[0m, in \u001b[0;36m_open_file_context\u001b[1;34m(file_like, appendmat, mode)\u001b[0m\n\u001b[0;32m     15\u001b[0m \u001b[38;5;129m@contextmanager\u001b[39m\n\u001b[0;32m     16\u001b[0m \u001b[38;5;28;01mdef\u001b[39;00m \u001b[38;5;21m_open_file_context\u001b[39m(file_like, appendmat, mode\u001b[38;5;241m=\u001b[39m\u001b[38;5;124m'\u001b[39m\u001b[38;5;124mrb\u001b[39m\u001b[38;5;124m'\u001b[39m):\n\u001b[1;32m---> 17\u001b[0m     f, opened \u001b[38;5;241m=\u001b[39m \u001b[43m_open_file\u001b[49m\u001b[43m(\u001b[49m\u001b[43mfile_like\u001b[49m\u001b[43m,\u001b[49m\u001b[43m \u001b[49m\u001b[43mappendmat\u001b[49m\u001b[43m,\u001b[49m\u001b[43m \u001b[49m\u001b[43mmode\u001b[49m\u001b[43m)\u001b[49m\n\u001b[0;32m     18\u001b[0m     \u001b[38;5;28;01mtry\u001b[39;00m:\n\u001b[0;32m     19\u001b[0m         \u001b[38;5;28;01myield\u001b[39;00m f\n",
      "File \u001b[1;32mc:\\Users\\shiau\\.conda\\envs\\PYQUM-server-offline\\lib\\site-packages\\scipy\\io\\matlab\\_mio.py:45\u001b[0m, in \u001b[0;36m_open_file\u001b[1;34m(file_like, appendmat, mode)\u001b[0m\n\u001b[0;32m     43\u001b[0m     \u001b[38;5;28;01mif\u001b[39;00m appendmat \u001b[38;5;129;01mand\u001b[39;00m \u001b[38;5;129;01mnot\u001b[39;00m file_like\u001b[38;5;241m.\u001b[39mendswith(\u001b[38;5;124m'\u001b[39m\u001b[38;5;124m.mat\u001b[39m\u001b[38;5;124m'\u001b[39m):\n\u001b[0;32m     44\u001b[0m         file_like \u001b[38;5;241m+\u001b[39m\u001b[38;5;241m=\u001b[39m \u001b[38;5;124m'\u001b[39m\u001b[38;5;124m.mat\u001b[39m\u001b[38;5;124m'\u001b[39m\n\u001b[1;32m---> 45\u001b[0m     \u001b[38;5;28;01mreturn\u001b[39;00m \u001b[38;5;28;43mopen\u001b[39;49m\u001b[43m(\u001b[49m\u001b[43mfile_like\u001b[49m\u001b[43m,\u001b[49m\u001b[43m \u001b[49m\u001b[43mmode\u001b[49m\u001b[43m)\u001b[49m, \u001b[38;5;28;01mTrue\u001b[39;00m\n\u001b[0;32m     46\u001b[0m \u001b[38;5;28;01melse\u001b[39;00m:\n\u001b[0;32m     47\u001b[0m     \u001b[38;5;28;01mraise\u001b[39;00m \u001b[38;5;167;01mOSError\u001b[39;00m(\n\u001b[0;32m     48\u001b[0m         \u001b[38;5;124m'\u001b[39m\u001b[38;5;124mReader needs file name or open file-like object\u001b[39m\u001b[38;5;124m'\u001b[39m\n\u001b[0;32m     49\u001b[0m     ) \u001b[38;5;28;01mfrom\u001b[39;00m \u001b[38;5;21;01me\u001b[39;00m\n",
      "\u001b[1;31mFileNotFoundError\u001b[0m: [Errno 2] No such file or directory: 'D:\\\\Data\\\\resonator/ITRI_334_WOPR/raw/C44949/C52280_IR60K.mat'"
     ]
    }
   ],
   "source": [
    "check_configure(f\"{sample_root}\", [\"power_dep_fit\"])\n",
    "\n",
    "for cav_label in folder_list:\n",
    "    print(f\"Processing {cav_label}\")\n",
    "\n",
    "    create_subfolder(fit_folder,cav_label)\n",
    "    result_folder = f\"{fit_folder}/{cav_label}\"\n",
    "\n",
    "    resonator_data_folder = f\"{raw_data_fd}/{cav_label}\"\n",
    "    resonator = PhotonDepResonator(cav_label)\n",
    "    # Find cavity data (mat file) in the folder\n",
    "    mat_files = check_file_extension( resonator_data_folder, \"mat\")\n",
    "    time, freq, s21 = mat_to_numpy(f\"{resonator_data_folder}/C52280_IR60K\")\n",
    "    s21 = s21.transpose()\n",
    "    resonator.import_array(freq,s21,[-30-80]*s21.shape[0])\n",
    "    result = resonator.refined_analysis( result_folder )\n",
    "    # result = resonator.free_analysis( result_folder )\n",
    "\n",
    "    all_resonator_result.append( result )\n",
    "    \n",
    "    df_results = pd.concat(all_resonator_result)\n",
    "    df_results.Name = cav_label"
   ]
  },
  {
   "cell_type": "markdown",
   "metadata": {},
   "source": [
    "Plot"
   ]
  },
  {
   "cell_type": "code",
   "execution_count": 6,
   "metadata": {},
   "outputs": [
    {
     "name": "stderr",
     "output_type": "stream",
     "text": [
      "No artists with labels found to put in legend.  Note that artists whose label start with an underscore are ignored when legend() is called with no argument.\n",
      "No artists with labels found to put in legend.  Note that artists whose label start with an underscore are ignored when legend() is called with no argument.\n",
      "No artists with labels found to put in legend.  Note that artists whose label start with an underscore are ignored when legend() is called with no argument.\n",
      "No artists with labels found to put in legend.  Note that artists whose label start with an underscore are ignored when legend() is called with no argument.\n"
     ]
    }
   ],
   "source": [
    "# each cavity file(mat file)\n",
    "from qcat.visualization.photon_dep_loss import * \n",
    "all_resonator_result = []\n",
    "folder_list = [d for d in os.listdir(raw_data_fd) if os.path.isdir(os.path.join(raw_data_fd, d))]\n",
    "\n",
    "fr = []\n",
    "qc = []\n",
    "for cav_label in folder_list:\n",
    "    create_subfolder(fit_folder,cav_label)\n",
    "    result_folder = f\"{fit_folder}/{cav_label}\"\n",
    "\n",
    "    # Plotting\n",
    "    df_powerQ_free = pd.read_csv( f\"{fit_folder}/{cav_label}/free_result.csv\" )\n",
    "    plot_singleRes_powerQ_free(df_powerQ_free, cav_label=f\"{cav_label}\", output_fd=result_folder)\n",
    "    plot_singleRes_powerloss_free(df_powerQ_free, cav_label=f\"{cav_label}\", output_fd=result_folder)\n",
    "\n",
    "    df_powerQ_refined = pd.read_csv( f\"{fit_folder}/{cav_label}/refined_result.csv\" )\n",
    "    plot_singleRes_powerQ_refined(df_powerQ_refined, cav_label=f\"{cav_label}\", output_fd=result_folder)\n",
    "    plot_singleRes_powerloss_refined(df_powerQ_refined, cav_label=f\"{cav_label}\", output_fd=result_folder)\n",
    "    fr.append(df_powerQ_refined[\"fr\"].values[-1])\n",
    "    qc.append(df_powerQ_refined[\"Qc_dia_corr_fixed\"].values[-1])\n",
    "\n",
    "## After assignment each cavity, get foward analysis\n",
    "# assignment = pd.read_json(f\"{raw_data_fd}/assignment.json\")\n",
    "# plot_multiRes_powerQ_free( fit_folder, assignment, fit_folder)\n",
    "# plot_multiRes_powerQ_refined( fit_folder, assignment, fit_folder, ((5e-1,3e5),(5e4,3e6)))\n",
    "\n",
    "# pd.DataFrame({\"fr\":np.array(fr),\"Qc\":np.array(qc)}).to_csv( f\"{fit_folder}/Qc.csv\" )"
   ]
  }
 ],
 "metadata": {
  "kernelspec": {
   "display_name": "PYQUM-server-offline",
   "language": "python",
   "name": "python3"
  },
  "language_info": {
   "codemirror_mode": {
    "name": "ipython",
    "version": 3
   },
   "file_extension": ".py",
   "mimetype": "text/x-python",
   "name": "python",
   "nbconvert_exporter": "python",
   "pygments_lexer": "ipython3",
   "version": "3.10.6"
  }
 },
 "nbformat": 4,
 "nbformat_minor": 2
}
